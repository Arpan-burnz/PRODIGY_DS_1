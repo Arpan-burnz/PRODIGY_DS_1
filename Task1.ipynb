{
 "cells": [
  {
   "cell_type": "markdown",
   "id": "6b1db061-4678-4544-8519-2079cd2f943f",
   "metadata": {},
   "source": [
    "# TASK 1"
   ]
  },
  {
   "cell_type": "code",
   "execution_count": 15,
   "id": "91fd5c10-0d7f-4df2-8b11-865a15b2d774",
   "metadata": {},
   "outputs": [],
   "source": [
    "import pandas as pd\n",
    "import numpy as np\n",
    "import matplotlib.pyplot as plt\n",
    "import seaborn as sns"
   ]
  },
  {
   "cell_type": "markdown",
   "id": "b57368c3-d77a-41b0-9ac1-17afd00fd6ee",
   "metadata": {},
   "source": [
    "# Reading the CSV file"
   ]
  },
  {
   "cell_type": "code",
   "execution_count": 16,
   "id": "6f48afe7-b99a-4d15-9586-6d418cef3554",
   "metadata": {},
   "outputs": [],
   "source": [
    "df=pd.read_csv(\"worldpopulationdata.csv\")"
   ]
  },
  {
   "cell_type": "markdown",
   "id": "c9f89833-1e71-4d4a-b3c8-36902890446c",
   "metadata": {},
   "source": [
    "# Printing the top 5 rows"
   ]
  },
  {
   "cell_type": "code",
   "execution_count": 17,
   "id": "a51c7f65-968a-4475-9a3b-857803be7d8c",
   "metadata": {},
   "outputs": [
    {
     "data": {
      "text/html": [
       "<div>\n",
       "<style scoped>\n",
       "    .dataframe tbody tr th:only-of-type {\n",
       "        vertical-align: middle;\n",
       "    }\n",
       "\n",
       "    .dataframe tbody tr th {\n",
       "        vertical-align: top;\n",
       "    }\n",
       "\n",
       "    .dataframe thead th {\n",
       "        text-align: right;\n",
       "    }\n",
       "</style>\n",
       "<table border=\"1\" class=\"dataframe\">\n",
       "  <thead>\n",
       "    <tr style=\"text-align: right;\">\n",
       "      <th></th>\n",
       "      <th>Country Name</th>\n",
       "      <th>Country Code</th>\n",
       "      <th>Indicator Name</th>\n",
       "      <th>Indicator Code</th>\n",
       "      <th>1960</th>\n",
       "      <th>1961</th>\n",
       "      <th>1962</th>\n",
       "      <th>1963</th>\n",
       "      <th>1964</th>\n",
       "      <th>1965</th>\n",
       "      <th>...</th>\n",
       "      <th>2015</th>\n",
       "      <th>2016</th>\n",
       "      <th>2017</th>\n",
       "      <th>2018</th>\n",
       "      <th>2019</th>\n",
       "      <th>2020</th>\n",
       "      <th>2021</th>\n",
       "      <th>2022</th>\n",
       "      <th>2023</th>\n",
       "      <th>2024</th>\n",
       "    </tr>\n",
       "  </thead>\n",
       "  <tbody>\n",
       "    <tr>\n",
       "      <th>0</th>\n",
       "      <td>Aruba</td>\n",
       "      <td>ABW</td>\n",
       "      <td>Population, total</td>\n",
       "      <td>SP.POP.TOTL</td>\n",
       "      <td>54922.0</td>\n",
       "      <td>55578.0</td>\n",
       "      <td>56320.0</td>\n",
       "      <td>57002.0</td>\n",
       "      <td>57619.0</td>\n",
       "      <td>58190.0</td>\n",
       "      <td>...</td>\n",
       "      <td>107906</td>\n",
       "      <td>108727</td>\n",
       "      <td>108735</td>\n",
       "      <td>108908</td>\n",
       "      <td>109203</td>\n",
       "      <td>108587</td>\n",
       "      <td>107700</td>\n",
       "      <td>107310</td>\n",
       "      <td>107359</td>\n",
       "      <td>107624</td>\n",
       "    </tr>\n",
       "    <tr>\n",
       "      <th>1</th>\n",
       "      <td>Africa Eastern and Southern</td>\n",
       "      <td>AFE</td>\n",
       "      <td>Population, total</td>\n",
       "      <td>SP.POP.TOTL</td>\n",
       "      <td>130075728.0</td>\n",
       "      <td>133534923.0</td>\n",
       "      <td>137171659.0</td>\n",
       "      <td>140945536.0</td>\n",
       "      <td>144904094.0</td>\n",
       "      <td>149033472.0</td>\n",
       "      <td>...</td>\n",
       "      <td>607123269</td>\n",
       "      <td>623369401</td>\n",
       "      <td>640058741</td>\n",
       "      <td>657801085</td>\n",
       "      <td>675950189</td>\n",
       "      <td>694446100</td>\n",
       "      <td>713090928</td>\n",
       "      <td>731821393</td>\n",
       "      <td>750503764</td>\n",
       "      <td>769294618</td>\n",
       "    </tr>\n",
       "    <tr>\n",
       "      <th>2</th>\n",
       "      <td>Afghanistan</td>\n",
       "      <td>AFG</td>\n",
       "      <td>Population, total</td>\n",
       "      <td>SP.POP.TOTL</td>\n",
       "      <td>9035043.0</td>\n",
       "      <td>9214083.0</td>\n",
       "      <td>9404406.0</td>\n",
       "      <td>9604487.0</td>\n",
       "      <td>9814318.0</td>\n",
       "      <td>10036008.0</td>\n",
       "      <td>...</td>\n",
       "      <td>33831764</td>\n",
       "      <td>34700612</td>\n",
       "      <td>35688935</td>\n",
       "      <td>36743039</td>\n",
       "      <td>37856121</td>\n",
       "      <td>39068979</td>\n",
       "      <td>40000412</td>\n",
       "      <td>40578842</td>\n",
       "      <td>41454761</td>\n",
       "      <td>42647492</td>\n",
       "    </tr>\n",
       "    <tr>\n",
       "      <th>3</th>\n",
       "      <td>Africa Western and Central</td>\n",
       "      <td>AFW</td>\n",
       "      <td>Population, total</td>\n",
       "      <td>SP.POP.TOTL</td>\n",
       "      <td>97630925.0</td>\n",
       "      <td>99706674.0</td>\n",
       "      <td>101854756.0</td>\n",
       "      <td>104089175.0</td>\n",
       "      <td>106388440.0</td>\n",
       "      <td>108772632.0</td>\n",
       "      <td>...</td>\n",
       "      <td>418127845</td>\n",
       "      <td>429454743</td>\n",
       "      <td>440882906</td>\n",
       "      <td>452195915</td>\n",
       "      <td>463365429</td>\n",
       "      <td>474569351</td>\n",
       "      <td>485920997</td>\n",
       "      <td>497387180</td>\n",
       "      <td>509398589</td>\n",
       "      <td>521764076</td>\n",
       "    </tr>\n",
       "    <tr>\n",
       "      <th>4</th>\n",
       "      <td>Angola</td>\n",
       "      <td>AGO</td>\n",
       "      <td>Population, total</td>\n",
       "      <td>SP.POP.TOTL</td>\n",
       "      <td>5231654.0</td>\n",
       "      <td>5301583.0</td>\n",
       "      <td>5354310.0</td>\n",
       "      <td>5408320.0</td>\n",
       "      <td>5464187.0</td>\n",
       "      <td>5521981.0</td>\n",
       "      <td>...</td>\n",
       "      <td>28157798</td>\n",
       "      <td>29183070</td>\n",
       "      <td>30234839</td>\n",
       "      <td>31297155</td>\n",
       "      <td>32375632</td>\n",
       "      <td>33451132</td>\n",
       "      <td>34532429</td>\n",
       "      <td>35635029</td>\n",
       "      <td>36749906</td>\n",
       "      <td>37885849</td>\n",
       "    </tr>\n",
       "  </tbody>\n",
       "</table>\n",
       "<p>5 rows × 69 columns</p>\n",
       "</div>"
      ],
      "text/plain": [
       "                  Country Name Country Code     Indicator Name Indicator Code  \\\n",
       "0                        Aruba          ABW  Population, total    SP.POP.TOTL   \n",
       "1  Africa Eastern and Southern          AFE  Population, total    SP.POP.TOTL   \n",
       "2                  Afghanistan          AFG  Population, total    SP.POP.TOTL   \n",
       "3   Africa Western and Central          AFW  Population, total    SP.POP.TOTL   \n",
       "4                       Angola          AGO  Population, total    SP.POP.TOTL   \n",
       "\n",
       "          1960         1961         1962         1963         1964  \\\n",
       "0      54922.0      55578.0      56320.0      57002.0      57619.0   \n",
       "1  130075728.0  133534923.0  137171659.0  140945536.0  144904094.0   \n",
       "2    9035043.0    9214083.0    9404406.0    9604487.0    9814318.0   \n",
       "3   97630925.0   99706674.0  101854756.0  104089175.0  106388440.0   \n",
       "4    5231654.0    5301583.0    5354310.0    5408320.0    5464187.0   \n",
       "\n",
       "          1965  ...       2015       2016       2017       2018       2019  \\\n",
       "0      58190.0  ...     107906     108727     108735     108908     109203   \n",
       "1  149033472.0  ...  607123269  623369401  640058741  657801085  675950189   \n",
       "2   10036008.0  ...   33831764   34700612   35688935   36743039   37856121   \n",
       "3  108772632.0  ...  418127845  429454743  440882906  452195915  463365429   \n",
       "4    5521981.0  ...   28157798   29183070   30234839   31297155   32375632   \n",
       "\n",
       "        2020       2021       2022       2023       2024  \n",
       "0     108587     107700     107310     107359     107624  \n",
       "1  694446100  713090928  731821393  750503764  769294618  \n",
       "2   39068979   40000412   40578842   41454761   42647492  \n",
       "3  474569351  485920997  497387180  509398589  521764076  \n",
       "4   33451132   34532429   35635029   36749906   37885849  \n",
       "\n",
       "[5 rows x 69 columns]"
      ]
     },
     "execution_count": 17,
     "metadata": {},
     "output_type": "execute_result"
    }
   ],
   "source": [
    "df.head(5)"
   ]
  },
  {
   "cell_type": "markdown",
   "id": "c2be653c-a6e7-45a4-b73e-3b7da85faaad",
   "metadata": {},
   "source": [
    "# Printing the bottom 5 rows"
   ]
  },
  {
   "cell_type": "code",
   "execution_count": 4,
   "id": "92a85161-a090-44a2-96af-80149f5c8ffd",
   "metadata": {},
   "outputs": [
    {
     "data": {
      "text/html": [
       "<div>\n",
       "<style scoped>\n",
       "    .dataframe tbody tr th:only-of-type {\n",
       "        vertical-align: middle;\n",
       "    }\n",
       "\n",
       "    .dataframe tbody tr th {\n",
       "        vertical-align: top;\n",
       "    }\n",
       "\n",
       "    .dataframe thead th {\n",
       "        text-align: right;\n",
       "    }\n",
       "</style>\n",
       "<table border=\"1\" class=\"dataframe\">\n",
       "  <thead>\n",
       "    <tr style=\"text-align: right;\">\n",
       "      <th></th>\n",
       "      <th>Country Name</th>\n",
       "      <th>Country Code</th>\n",
       "      <th>Indicator Name</th>\n",
       "      <th>Indicator Code</th>\n",
       "      <th>1960</th>\n",
       "      <th>1961</th>\n",
       "      <th>1962</th>\n",
       "      <th>1963</th>\n",
       "      <th>1964</th>\n",
       "      <th>1965</th>\n",
       "      <th>...</th>\n",
       "      <th>2015</th>\n",
       "      <th>2016</th>\n",
       "      <th>2017</th>\n",
       "      <th>2018</th>\n",
       "      <th>2019</th>\n",
       "      <th>2020</th>\n",
       "      <th>2021</th>\n",
       "      <th>2022</th>\n",
       "      <th>2023</th>\n",
       "      <th>2024</th>\n",
       "    </tr>\n",
       "  </thead>\n",
       "  <tbody>\n",
       "    <tr>\n",
       "      <th>260</th>\n",
       "      <td>Kosovo</td>\n",
       "      <td>XKX</td>\n",
       "      <td>Population, total</td>\n",
       "      <td>SP.POP.TOTL</td>\n",
       "      <td>984846.0</td>\n",
       "      <td>1011421.0</td>\n",
       "      <td>1036950.0</td>\n",
       "      <td>1062737.0</td>\n",
       "      <td>1090270.0</td>\n",
       "      <td>1120168.0</td>\n",
       "      <td>...</td>\n",
       "      <td>1788274</td>\n",
       "      <td>1777568</td>\n",
       "      <td>1791019</td>\n",
       "      <td>1797086</td>\n",
       "      <td>1788891</td>\n",
       "      <td>1790151</td>\n",
       "      <td>1786079</td>\n",
       "      <td>1768096</td>\n",
       "      <td>1682668</td>\n",
       "      <td>1527324</td>\n",
       "    </tr>\n",
       "    <tr>\n",
       "      <th>261</th>\n",
       "      <td>Yemen, Rep.</td>\n",
       "      <td>YEM</td>\n",
       "      <td>Population, total</td>\n",
       "      <td>SP.POP.TOTL</td>\n",
       "      <td>5532301.0</td>\n",
       "      <td>5655232.0</td>\n",
       "      <td>5782221.0</td>\n",
       "      <td>5911135.0</td>\n",
       "      <td>6048006.0</td>\n",
       "      <td>6195593.0</td>\n",
       "      <td>...</td>\n",
       "      <td>31159379</td>\n",
       "      <td>32109010</td>\n",
       "      <td>33090921</td>\n",
       "      <td>34085182</td>\n",
       "      <td>35111408</td>\n",
       "      <td>36134863</td>\n",
       "      <td>37140230</td>\n",
       "      <td>38222876</td>\n",
       "      <td>39390799</td>\n",
       "      <td>40583164</td>\n",
       "    </tr>\n",
       "    <tr>\n",
       "      <th>262</th>\n",
       "      <td>South Africa</td>\n",
       "      <td>ZAF</td>\n",
       "      <td>Population, total</td>\n",
       "      <td>SP.POP.TOTL</td>\n",
       "      <td>16440172.0</td>\n",
       "      <td>16908035.0</td>\n",
       "      <td>17418522.0</td>\n",
       "      <td>17954564.0</td>\n",
       "      <td>18511361.0</td>\n",
       "      <td>19089380.0</td>\n",
       "      <td>...</td>\n",
       "      <td>56723537</td>\n",
       "      <td>57259551</td>\n",
       "      <td>57635162</td>\n",
       "      <td>58613001</td>\n",
       "      <td>59587885</td>\n",
       "      <td>60562381</td>\n",
       "      <td>61502603</td>\n",
       "      <td>62378410</td>\n",
       "      <td>63212384</td>\n",
       "      <td>64007187</td>\n",
       "    </tr>\n",
       "    <tr>\n",
       "      <th>263</th>\n",
       "      <td>Zambia</td>\n",
       "      <td>ZMB</td>\n",
       "      <td>Population, total</td>\n",
       "      <td>SP.POP.TOTL</td>\n",
       "      <td>3153729.0</td>\n",
       "      <td>3254086.0</td>\n",
       "      <td>3358099.0</td>\n",
       "      <td>3465907.0</td>\n",
       "      <td>3577017.0</td>\n",
       "      <td>3692086.0</td>\n",
       "      <td>...</td>\n",
       "      <td>16399089</td>\n",
       "      <td>16914423</td>\n",
       "      <td>17441320</td>\n",
       "      <td>17973569</td>\n",
       "      <td>18513839</td>\n",
       "      <td>19059395</td>\n",
       "      <td>19603607</td>\n",
       "      <td>20152938</td>\n",
       "      <td>20723965</td>\n",
       "      <td>21314956</td>\n",
       "    </tr>\n",
       "    <tr>\n",
       "      <th>264</th>\n",
       "      <td>Zimbabwe</td>\n",
       "      <td>ZWE</td>\n",
       "      <td>Population, total</td>\n",
       "      <td>SP.POP.TOTL</td>\n",
       "      <td>3809389.0</td>\n",
       "      <td>3930401.0</td>\n",
       "      <td>4055959.0</td>\n",
       "      <td>4185877.0</td>\n",
       "      <td>4320006.0</td>\n",
       "      <td>4458462.0</td>\n",
       "      <td>...</td>\n",
       "      <td>14399013</td>\n",
       "      <td>14600294</td>\n",
       "      <td>14812482</td>\n",
       "      <td>15034452</td>\n",
       "      <td>15271368</td>\n",
       "      <td>15526888</td>\n",
       "      <td>15797210</td>\n",
       "      <td>16069056</td>\n",
       "      <td>16340822</td>\n",
       "      <td>16634373</td>\n",
       "    </tr>\n",
       "  </tbody>\n",
       "</table>\n",
       "<p>5 rows × 69 columns</p>\n",
       "</div>"
      ],
      "text/plain": [
       "     Country Name Country Code     Indicator Name Indicator Code        1960  \\\n",
       "260        Kosovo          XKX  Population, total    SP.POP.TOTL    984846.0   \n",
       "261   Yemen, Rep.          YEM  Population, total    SP.POP.TOTL   5532301.0   \n",
       "262  South Africa          ZAF  Population, total    SP.POP.TOTL  16440172.0   \n",
       "263        Zambia          ZMB  Population, total    SP.POP.TOTL   3153729.0   \n",
       "264      Zimbabwe          ZWE  Population, total    SP.POP.TOTL   3809389.0   \n",
       "\n",
       "           1961        1962        1963        1964        1965  ...  \\\n",
       "260   1011421.0   1036950.0   1062737.0   1090270.0   1120168.0  ...   \n",
       "261   5655232.0   5782221.0   5911135.0   6048006.0   6195593.0  ...   \n",
       "262  16908035.0  17418522.0  17954564.0  18511361.0  19089380.0  ...   \n",
       "263   3254086.0   3358099.0   3465907.0   3577017.0   3692086.0  ...   \n",
       "264   3930401.0   4055959.0   4185877.0   4320006.0   4458462.0  ...   \n",
       "\n",
       "         2015      2016      2017      2018      2019      2020      2021  \\\n",
       "260   1788274   1777568   1791019   1797086   1788891   1790151   1786079   \n",
       "261  31159379  32109010  33090921  34085182  35111408  36134863  37140230   \n",
       "262  56723537  57259551  57635162  58613001  59587885  60562381  61502603   \n",
       "263  16399089  16914423  17441320  17973569  18513839  19059395  19603607   \n",
       "264  14399013  14600294  14812482  15034452  15271368  15526888  15797210   \n",
       "\n",
       "         2022      2023      2024  \n",
       "260   1768096   1682668   1527324  \n",
       "261  38222876  39390799  40583164  \n",
       "262  62378410  63212384  64007187  \n",
       "263  20152938  20723965  21314956  \n",
       "264  16069056  16340822  16634373  \n",
       "\n",
       "[5 rows x 69 columns]"
      ]
     },
     "execution_count": 4,
     "metadata": {},
     "output_type": "execute_result"
    }
   ],
   "source": [
    "df.tail(5)"
   ]
  },
  {
   "cell_type": "markdown",
   "id": "28fb453b-34a8-4725-b046-6fc0df3e7dc4",
   "metadata": {},
   "source": [
    "# Identifying the columns "
   ]
  },
  {
   "cell_type": "code",
   "execution_count": 18,
   "id": "d9faed1e-7678-4806-a1a0-9e3713695143",
   "metadata": {},
   "outputs": [
    {
     "data": {
      "text/plain": [
       "Index(['Country Name', 'Country Code', 'Indicator Name', 'Indicator Code',\n",
       "       '1960', '1961', '1962', '1963', '1964', '1965', '1966', '1967', '1968',\n",
       "       '1969', '1970', '1971', '1972', '1973', '1974', '1975', '1976', '1977',\n",
       "       '1978', '1979', '1980', '1981', '1982', '1983', '1984', '1985', '1986',\n",
       "       '1987', '1988', '1989', '1990', '1991', '1992', '1993', '1994', '1995',\n",
       "       '1996', '1997', '1998', '1999', '2000', '2001', '2002', '2003', '2004',\n",
       "       '2005', '2006', '2007', '2008', '2009', '2010', '2011', '2012', '2013',\n",
       "       '2014', '2015', '2016', '2017', '2018', '2019', '2020', '2021', '2022',\n",
       "       '2023', '2024'],\n",
       "      dtype='object')"
      ]
     },
     "execution_count": 18,
     "metadata": {},
     "output_type": "execute_result"
    }
   ],
   "source": [
    "df.columns"
   ]
  },
  {
   "cell_type": "markdown",
   "id": "fcfcd99b-638a-4db7-82c9-cf3781c4bbe5",
   "metadata": {},
   "source": [
    "# Describing the Table"
   ]
  },
  {
   "cell_type": "code",
   "execution_count": 19,
   "id": "86fcaec5-4c62-4828-9660-effe73403685",
   "metadata": {},
   "outputs": [
    {
     "data": {
      "text/html": [
       "<div>\n",
       "<style scoped>\n",
       "    .dataframe tbody tr th:only-of-type {\n",
       "        vertical-align: middle;\n",
       "    }\n",
       "\n",
       "    .dataframe tbody tr th {\n",
       "        vertical-align: top;\n",
       "    }\n",
       "\n",
       "    .dataframe thead th {\n",
       "        text-align: right;\n",
       "    }\n",
       "</style>\n",
       "<table border=\"1\" class=\"dataframe\">\n",
       "  <thead>\n",
       "    <tr style=\"text-align: right;\">\n",
       "      <th></th>\n",
       "      <th>1960</th>\n",
       "      <th>1961</th>\n",
       "      <th>1962</th>\n",
       "      <th>1963</th>\n",
       "      <th>1964</th>\n",
       "      <th>1965</th>\n",
       "      <th>1966</th>\n",
       "      <th>1967</th>\n",
       "      <th>1968</th>\n",
       "      <th>1969</th>\n",
       "      <th>...</th>\n",
       "      <th>2015</th>\n",
       "      <th>2016</th>\n",
       "      <th>2017</th>\n",
       "      <th>2018</th>\n",
       "      <th>2019</th>\n",
       "      <th>2020</th>\n",
       "      <th>2021</th>\n",
       "      <th>2022</th>\n",
       "      <th>2023</th>\n",
       "      <th>2024</th>\n",
       "    </tr>\n",
       "  </thead>\n",
       "  <tbody>\n",
       "    <tr>\n",
       "      <th>count</th>\n",
       "      <td>2.640000e+02</td>\n",
       "      <td>2.640000e+02</td>\n",
       "      <td>2.640000e+02</td>\n",
       "      <td>2.640000e+02</td>\n",
       "      <td>2.640000e+02</td>\n",
       "      <td>2.640000e+02</td>\n",
       "      <td>2.640000e+02</td>\n",
       "      <td>2.640000e+02</td>\n",
       "      <td>2.640000e+02</td>\n",
       "      <td>2.640000e+02</td>\n",
       "      <td>...</td>\n",
       "      <td>2.650000e+02</td>\n",
       "      <td>2.650000e+02</td>\n",
       "      <td>2.650000e+02</td>\n",
       "      <td>2.650000e+02</td>\n",
       "      <td>2.650000e+02</td>\n",
       "      <td>2.650000e+02</td>\n",
       "      <td>2.650000e+02</td>\n",
       "      <td>2.650000e+02</td>\n",
       "      <td>2.650000e+02</td>\n",
       "      <td>2.650000e+02</td>\n",
       "    </tr>\n",
       "    <tr>\n",
       "      <th>mean</th>\n",
       "      <td>1.154023e+08</td>\n",
       "      <td>1.170070e+08</td>\n",
       "      <td>1.191678e+08</td>\n",
       "      <td>1.218381e+08</td>\n",
       "      <td>1.245322e+08</td>\n",
       "      <td>1.272581e+08</td>\n",
       "      <td>1.301037e+08</td>\n",
       "      <td>1.329570e+08</td>\n",
       "      <td>1.358851e+08</td>\n",
       "      <td>1.389115e+08</td>\n",
       "      <td>...</td>\n",
       "      <td>3.002078e+08</td>\n",
       "      <td>3.040350e+08</td>\n",
       "      <td>3.078574e+08</td>\n",
       "      <td>3.116049e+08</td>\n",
       "      <td>3.152801e+08</td>\n",
       "      <td>3.187967e+08</td>\n",
       "      <td>3.219557e+08</td>\n",
       "      <td>3.251253e+08</td>\n",
       "      <td>3.284356e+08</td>\n",
       "      <td>3.318869e+08</td>\n",
       "    </tr>\n",
       "    <tr>\n",
       "      <th>std</th>\n",
       "      <td>3.616526e+08</td>\n",
       "      <td>3.661347e+08</td>\n",
       "      <td>3.727681e+08</td>\n",
       "      <td>3.813687e+08</td>\n",
       "      <td>3.900162e+08</td>\n",
       "      <td>3.987697e+08</td>\n",
       "      <td>4.079989e+08</td>\n",
       "      <td>4.172145e+08</td>\n",
       "      <td>4.266937e+08</td>\n",
       "      <td>4.365313e+08</td>\n",
       "      <td>...</td>\n",
       "      <td>9.337187e+08</td>\n",
       "      <td>9.447450e+08</td>\n",
       "      <td>9.557617e+08</td>\n",
       "      <td>9.664403e+08</td>\n",
       "      <td>9.768047e+08</td>\n",
       "      <td>9.866025e+08</td>\n",
       "      <td>9.952966e+08</td>\n",
       "      <td>1.003734e+09</td>\n",
       "      <td>1.012519e+09</td>\n",
       "      <td>1.021734e+09</td>\n",
       "    </tr>\n",
       "    <tr>\n",
       "      <th>min</th>\n",
       "      <td>2.715000e+03</td>\n",
       "      <td>2.970000e+03</td>\n",
       "      <td>3.264000e+03</td>\n",
       "      <td>3.584000e+03</td>\n",
       "      <td>3.922000e+03</td>\n",
       "      <td>4.282000e+03</td>\n",
       "      <td>4.664000e+03</td>\n",
       "      <td>5.071000e+03</td>\n",
       "      <td>5.500000e+03</td>\n",
       "      <td>5.631000e+03</td>\n",
       "      <td>...</td>\n",
       "      <td>1.095400e+04</td>\n",
       "      <td>1.093000e+04</td>\n",
       "      <td>1.086900e+04</td>\n",
       "      <td>1.075100e+04</td>\n",
       "      <td>1.058100e+04</td>\n",
       "      <td>1.039900e+04</td>\n",
       "      <td>1.019400e+04</td>\n",
       "      <td>9.992000e+03</td>\n",
       "      <td>9.816000e+03</td>\n",
       "      <td>9.646000e+03</td>\n",
       "    </tr>\n",
       "    <tr>\n",
       "      <th>25%</th>\n",
       "      <td>5.152028e+05</td>\n",
       "      <td>5.255230e+05</td>\n",
       "      <td>5.363018e+05</td>\n",
       "      <td>5.475875e+05</td>\n",
       "      <td>5.593638e+05</td>\n",
       "      <td>5.675750e+05</td>\n",
       "      <td>5.711695e+05</td>\n",
       "      <td>5.779525e+05</td>\n",
       "      <td>5.825170e+05</td>\n",
       "      <td>5.861185e+05</td>\n",
       "      <td>...</td>\n",
       "      <td>1.786457e+06</td>\n",
       "      <td>1.777568e+06</td>\n",
       "      <td>1.791019e+06</td>\n",
       "      <td>1.797086e+06</td>\n",
       "      <td>1.788891e+06</td>\n",
       "      <td>1.790151e+06</td>\n",
       "      <td>1.786079e+06</td>\n",
       "      <td>1.803545e+06</td>\n",
       "      <td>1.827816e+06</td>\n",
       "      <td>1.792179e+06</td>\n",
       "    </tr>\n",
       "    <tr>\n",
       "      <th>50%</th>\n",
       "      <td>3.659633e+06</td>\n",
       "      <td>3.747132e+06</td>\n",
       "      <td>3.831900e+06</td>\n",
       "      <td>3.919710e+06</td>\n",
       "      <td>4.010150e+06</td>\n",
       "      <td>4.102976e+06</td>\n",
       "      <td>4.198738e+06</td>\n",
       "      <td>4.297792e+06</td>\n",
       "      <td>4.396290e+06</td>\n",
       "      <td>4.503420e+06</td>\n",
       "      <td>...</td>\n",
       "      <td>1.035808e+07</td>\n",
       "      <td>1.032545e+07</td>\n",
       "      <td>1.025915e+07</td>\n",
       "      <td>1.028382e+07</td>\n",
       "      <td>1.042338e+07</td>\n",
       "      <td>1.069786e+07</td>\n",
       "      <td>1.050577e+07</td>\n",
       "      <td>1.048694e+07</td>\n",
       "      <td>1.064485e+07</td>\n",
       "      <td>1.087698e+07</td>\n",
       "    </tr>\n",
       "    <tr>\n",
       "      <th>75%</th>\n",
       "      <td>2.686293e+07</td>\n",
       "      <td>2.761326e+07</td>\n",
       "      <td>2.837302e+07</td>\n",
       "      <td>2.915448e+07</td>\n",
       "      <td>2.995223e+07</td>\n",
       "      <td>3.075921e+07</td>\n",
       "      <td>3.147516e+07</td>\n",
       "      <td>3.203946e+07</td>\n",
       "      <td>3.247057e+07</td>\n",
       "      <td>3.277149e+07</td>\n",
       "      <td>...</td>\n",
       "      <td>6.022960e+07</td>\n",
       "      <td>6.011522e+07</td>\n",
       "      <td>6.000225e+07</td>\n",
       "      <td>6.014866e+07</td>\n",
       "      <td>5.972908e+07</td>\n",
       "      <td>6.097280e+07</td>\n",
       "      <td>6.283041e+07</td>\n",
       "      <td>6.471182e+07</td>\n",
       "      <td>6.661761e+07</td>\n",
       "      <td>6.851670e+07</td>\n",
       "    </tr>\n",
       "    <tr>\n",
       "      <th>max</th>\n",
       "      <td>3.021513e+09</td>\n",
       "      <td>3.062768e+09</td>\n",
       "      <td>3.117372e+09</td>\n",
       "      <td>3.184063e+09</td>\n",
       "      <td>3.251253e+09</td>\n",
       "      <td>3.318998e+09</td>\n",
       "      <td>3.389087e+09</td>\n",
       "      <td>3.459015e+09</td>\n",
       "      <td>3.530704e+09</td>\n",
       "      <td>3.604816e+09</td>\n",
       "      <td>...</td>\n",
       "      <td>7.441827e+09</td>\n",
       "      <td>7.529067e+09</td>\n",
       "      <td>7.614749e+09</td>\n",
       "      <td>7.697492e+09</td>\n",
       "      <td>7.778304e+09</td>\n",
       "      <td>7.855075e+09</td>\n",
       "      <td>7.920862e+09</td>\n",
       "      <td>7.990400e+09</td>\n",
       "      <td>8.064977e+09</td>\n",
       "      <td>8.142056e+09</td>\n",
       "    </tr>\n",
       "  </tbody>\n",
       "</table>\n",
       "<p>8 rows × 65 columns</p>\n",
       "</div>"
      ],
      "text/plain": [
       "               1960          1961          1962          1963          1964  \\\n",
       "count  2.640000e+02  2.640000e+02  2.640000e+02  2.640000e+02  2.640000e+02   \n",
       "mean   1.154023e+08  1.170070e+08  1.191678e+08  1.218381e+08  1.245322e+08   \n",
       "std    3.616526e+08  3.661347e+08  3.727681e+08  3.813687e+08  3.900162e+08   \n",
       "min    2.715000e+03  2.970000e+03  3.264000e+03  3.584000e+03  3.922000e+03   \n",
       "25%    5.152028e+05  5.255230e+05  5.363018e+05  5.475875e+05  5.593638e+05   \n",
       "50%    3.659633e+06  3.747132e+06  3.831900e+06  3.919710e+06  4.010150e+06   \n",
       "75%    2.686293e+07  2.761326e+07  2.837302e+07  2.915448e+07  2.995223e+07   \n",
       "max    3.021513e+09  3.062768e+09  3.117372e+09  3.184063e+09  3.251253e+09   \n",
       "\n",
       "               1965          1966          1967          1968          1969  \\\n",
       "count  2.640000e+02  2.640000e+02  2.640000e+02  2.640000e+02  2.640000e+02   \n",
       "mean   1.272581e+08  1.301037e+08  1.329570e+08  1.358851e+08  1.389115e+08   \n",
       "std    3.987697e+08  4.079989e+08  4.172145e+08  4.266937e+08  4.365313e+08   \n",
       "min    4.282000e+03  4.664000e+03  5.071000e+03  5.500000e+03  5.631000e+03   \n",
       "25%    5.675750e+05  5.711695e+05  5.779525e+05  5.825170e+05  5.861185e+05   \n",
       "50%    4.102976e+06  4.198738e+06  4.297792e+06  4.396290e+06  4.503420e+06   \n",
       "75%    3.075921e+07  3.147516e+07  3.203946e+07  3.247057e+07  3.277149e+07   \n",
       "max    3.318998e+09  3.389087e+09  3.459015e+09  3.530704e+09  3.604816e+09   \n",
       "\n",
       "       ...          2015          2016          2017          2018  \\\n",
       "count  ...  2.650000e+02  2.650000e+02  2.650000e+02  2.650000e+02   \n",
       "mean   ...  3.002078e+08  3.040350e+08  3.078574e+08  3.116049e+08   \n",
       "std    ...  9.337187e+08  9.447450e+08  9.557617e+08  9.664403e+08   \n",
       "min    ...  1.095400e+04  1.093000e+04  1.086900e+04  1.075100e+04   \n",
       "25%    ...  1.786457e+06  1.777568e+06  1.791019e+06  1.797086e+06   \n",
       "50%    ...  1.035808e+07  1.032545e+07  1.025915e+07  1.028382e+07   \n",
       "75%    ...  6.022960e+07  6.011522e+07  6.000225e+07  6.014866e+07   \n",
       "max    ...  7.441827e+09  7.529067e+09  7.614749e+09  7.697492e+09   \n",
       "\n",
       "               2019          2020          2021          2022          2023  \\\n",
       "count  2.650000e+02  2.650000e+02  2.650000e+02  2.650000e+02  2.650000e+02   \n",
       "mean   3.152801e+08  3.187967e+08  3.219557e+08  3.251253e+08  3.284356e+08   \n",
       "std    9.768047e+08  9.866025e+08  9.952966e+08  1.003734e+09  1.012519e+09   \n",
       "min    1.058100e+04  1.039900e+04  1.019400e+04  9.992000e+03  9.816000e+03   \n",
       "25%    1.788891e+06  1.790151e+06  1.786079e+06  1.803545e+06  1.827816e+06   \n",
       "50%    1.042338e+07  1.069786e+07  1.050577e+07  1.048694e+07  1.064485e+07   \n",
       "75%    5.972908e+07  6.097280e+07  6.283041e+07  6.471182e+07  6.661761e+07   \n",
       "max    7.778304e+09  7.855075e+09  7.920862e+09  7.990400e+09  8.064977e+09   \n",
       "\n",
       "               2024  \n",
       "count  2.650000e+02  \n",
       "mean   3.318869e+08  \n",
       "std    1.021734e+09  \n",
       "min    9.646000e+03  \n",
       "25%    1.792179e+06  \n",
       "50%    1.087698e+07  \n",
       "75%    6.851670e+07  \n",
       "max    8.142056e+09  \n",
       "\n",
       "[8 rows x 65 columns]"
      ]
     },
     "execution_count": 19,
     "metadata": {},
     "output_type": "execute_result"
    }
   ],
   "source": [
    "df.describe()"
   ]
  },
  {
   "cell_type": "markdown",
   "id": "cb2987e0-2876-436c-bb6f-fe7f51cf8577",
   "metadata": {},
   "source": [
    "# Check for Duplicates"
   ]
  },
  {
   "cell_type": "code",
   "execution_count": 7,
   "id": "6134d349-5fcf-40f8-a836-c29f2a81135a",
   "metadata": {},
   "outputs": [
    {
     "data": {
      "text/plain": [
       "np.int64(0)"
      ]
     },
     "execution_count": 7,
     "metadata": {},
     "output_type": "execute_result"
    }
   ],
   "source": [
    "df.duplicated().sum()"
   ]
  },
  {
   "cell_type": "markdown",
   "id": "a42a00e4-e50d-46c3-9c8e-e92ff75de265",
   "metadata": {},
   "source": [
    "# Check for missing values"
   ]
  },
  {
   "cell_type": "code",
   "execution_count": 20,
   "id": "fbaa67fd-1b1e-468d-a937-9863595e74b2",
   "metadata": {},
   "outputs": [
    {
     "data": {
      "text/plain": [
       "Country Name      0\n",
       "Country Code      0\n",
       "Indicator Name    0\n",
       "Indicator Code    0\n",
       "1960              1\n",
       "                 ..\n",
       "2020              0\n",
       "2021              0\n",
       "2022              0\n",
       "2023              0\n",
       "2024              0\n",
       "Length: 69, dtype: int64"
      ]
     },
     "execution_count": 20,
     "metadata": {},
     "output_type": "execute_result"
    }
   ],
   "source": [
    "df.isna().sum()"
   ]
  },
  {
   "cell_type": "markdown",
   "id": "d3404df2-bcc2-46dd-b8c4-c24ed70926d7",
   "metadata": {},
   "source": [
    "# Checking unique names"
   ]
  },
  {
   "cell_type": "code",
   "execution_count": 21,
   "id": "4692936f-9829-47d1-8325-87127f1c06d7",
   "metadata": {},
   "outputs": [
    {
     "name": "stdout",
     "output_type": "stream",
     "text": [
      "['Aruba' 'Africa Eastern and Southern' 'Afghanistan'\n",
      " 'Africa Western and Central' 'Angola' 'Albania' 'Andorra' 'Arab World'\n",
      " 'United Arab Emirates' 'Argentina' 'Armenia' 'American Samoa'\n",
      " 'Antigua and Barbuda' 'Australia' 'Austria' 'Azerbaijan' 'Burundi'\n",
      " 'Belgium' 'Benin' 'Burkina Faso' 'Bangladesh' 'Bulgaria' 'Bahrain'\n",
      " 'Bahamas, The' 'Bosnia and Herzegovina' 'Belarus' 'Belize' 'Bermuda'\n",
      " 'Bolivia' 'Brazil' 'Barbados' 'Brunei Darussalam' 'Bhutan' 'Botswana'\n",
      " 'Central African Republic' 'Canada' 'Central Europe and the Baltics'\n",
      " 'Switzerland' 'Channel Islands' 'Chile' 'China' \"Cote d'Ivoire\"\n",
      " 'Cameroon' 'Congo, Dem. Rep.' 'Congo, Rep.' 'Colombia' 'Comoros'\n",
      " 'Cabo Verde' 'Costa Rica' 'Caribbean small states' 'Cuba' 'Curacao'\n",
      " 'Cayman Islands' 'Cyprus' 'Czechia' 'Germany' 'Djibouti' 'Dominica'\n",
      " 'Denmark' 'Dominican Republic' 'Algeria'\n",
      " 'East Asia & Pacific (excluding high income)'\n",
      " 'Early-demographic dividend' 'East Asia & Pacific'\n",
      " 'Europe & Central Asia (excluding high income)' 'Europe & Central Asia'\n",
      " 'Ecuador' 'Egypt, Arab Rep.' 'Euro area' 'Eritrea' 'Spain' 'Estonia'\n",
      " 'Ethiopia' 'European Union' 'Fragile and conflict affected situations'\n",
      " 'Finland' 'Fiji' 'France' 'Faroe Islands' 'Micronesia, Fed. Sts.' 'Gabon'\n",
      " 'United Kingdom' 'Georgia' 'Ghana' 'Gibraltar' 'Guinea' 'Gambia, The'\n",
      " 'Guinea-Bissau' 'Equatorial Guinea' 'Greece' 'Grenada' 'Greenland'\n",
      " 'Guatemala' 'Guam' 'Guyana' 'High income' 'Hong Kong SAR, China'\n",
      " 'Honduras' 'Heavily indebted poor countries (HIPC)' 'Croatia' 'Haiti'\n",
      " 'Hungary' 'IBRD only' 'IDA & IBRD total' 'IDA total' 'IDA blend'\n",
      " 'Indonesia' 'IDA only' 'Isle of Man' 'India' 'Ireland'\n",
      " 'Iran, Islamic Rep.' 'Iraq' 'Iceland' 'Israel' 'Italy' 'Jamaica' 'Jordan'\n",
      " 'Japan' 'Kazakhstan' 'Kenya' 'Kyrgyz Republic' 'Cambodia' 'Kiribati'\n",
      " 'St. Kitts and Nevis' 'Korea, Rep.' 'Kuwait'\n",
      " 'Latin America & Caribbean (excluding high income)' 'Lao PDR' 'Lebanon'\n",
      " 'Liberia' 'Libya' 'St. Lucia' 'Latin America & Caribbean'\n",
      " 'Least developed countries: UN classification' 'Low income'\n",
      " 'Liechtenstein' 'Sri Lanka' 'Lower middle income' 'Low & middle income'\n",
      " 'Lesotho' 'Late-demographic dividend' 'Lithuania' 'Luxembourg' 'Latvia'\n",
      " 'Macao SAR, China' 'St. Martin (French part)' 'Morocco' 'Monaco'\n",
      " 'Moldova' 'Madagascar' 'Maldives'\n",
      " 'Middle East, North Africa, Afghanistan & Pakistan' 'Mexico'\n",
      " 'Marshall Islands' 'Middle income' 'North Macedonia' 'Mali' 'Malta'\n",
      " 'Myanmar'\n",
      " 'Middle East, North Africa, Afghanistan & Pakistan (excluding high income)'\n",
      " 'Montenegro' 'Mongolia' 'Northern Mariana Islands' 'Mozambique'\n",
      " 'Mauritania' 'Mauritius' 'Malawi' 'Malaysia' 'North America' 'Namibia'\n",
      " 'New Caledonia' 'Niger' 'Nigeria' 'Nicaragua' 'Netherlands' 'Norway'\n",
      " 'Nepal' 'Nauru' 'New Zealand' 'OECD members' 'Oman' 'Other small states'\n",
      " 'Pakistan' 'Panama' 'Peru' 'Philippines' 'Palau' 'Papua New Guinea'\n",
      " 'Poland' 'Pre-demographic dividend' 'Puerto Rico (US)'\n",
      " \"Korea, Dem. People's Rep.\" 'Portugal' 'Paraguay' 'West Bank and Gaza'\n",
      " 'Pacific island small states' 'Post-demographic dividend'\n",
      " 'French Polynesia' 'Qatar' 'Romania' 'Russian Federation' 'Rwanda'\n",
      " 'South Asia' 'Saudi Arabia' 'Sudan' 'Senegal' 'Singapore'\n",
      " 'Solomon Islands' 'Sierra Leone' 'El Salvador' 'San Marino' 'Somalia'\n",
      " 'Serbia' 'Sub-Saharan Africa (excluding high income)' 'South Sudan'\n",
      " 'Sub-Saharan Africa' 'Small states' 'Sao Tome and Principe' 'Suriname'\n",
      " 'Slovak Republic' 'Slovenia' 'Sweden' 'Eswatini'\n",
      " 'Sint Maarten (Dutch part)' 'Seychelles' 'Syrian Arab Republic'\n",
      " 'Turks and Caicos Islands' 'Chad'\n",
      " 'East Asia & Pacific (IDA & IBRD countries)'\n",
      " 'Europe & Central Asia (IDA & IBRD countries)' 'Togo' 'Thailand'\n",
      " 'Tajikistan' 'Turkmenistan'\n",
      " 'Latin America & the Caribbean (IDA & IBRD countries)' 'Timor-Leste'\n",
      " 'Middle East, North Africa, Afghanistan & Pakistan (IDA & IBRD)' 'Tonga'\n",
      " 'South Asia (IDA & IBRD)' 'Sub-Saharan Africa (IDA & IBRD countries)'\n",
      " 'Trinidad and Tobago' 'Tunisia' 'Turkiye' 'Tuvalu' 'Tanzania' 'Uganda'\n",
      " 'Ukraine' 'Upper middle income' 'Uruguay' 'United States' 'Uzbekistan'\n",
      " 'St. Vincent and the Grenadines' 'Venezuela, RB' 'British Virgin Islands'\n",
      " 'Virgin Islands (U.S.)' 'Viet Nam' 'Vanuatu' 'World' 'Samoa' 'Kosovo'\n",
      " 'Yemen, Rep.' 'South Africa' 'Zambia' 'Zimbabwe']\n",
      "\n",
      " Total no of unique countries: 265\n"
     ]
    }
   ],
   "source": [
    "print(df['Country Name'].unique())\n",
    "print(\"\\n Total no of unique countries:\",df['Country Name'].nunique())"
   ]
  },
  {
   "cell_type": "markdown",
   "id": "9288ce16-1ef2-45b3-84e5-4de6aec9d88a",
   "metadata": {},
   "source": [
    "# Checking unique country codes"
   ]
  },
  {
   "cell_type": "code",
   "execution_count": 10,
   "id": "9b8bcc9f-63e8-481d-bb6a-1ca706d1ba81",
   "metadata": {},
   "outputs": [
    {
     "name": "stdout",
     "output_type": "stream",
     "text": [
      "['ABW' 'AFE' 'AFG' 'AFW' 'AGO' 'ALB' 'AND' 'ARB' 'ARE' 'ARG' 'ARM' 'ASM'\n",
      " 'ATG' 'AUS' 'AUT' 'AZE' 'BDI' 'BEL' 'BEN' 'BFA' 'BGD' 'BGR' 'BHR' 'BHS'\n",
      " 'BIH' 'BLR' 'BLZ' 'BMU' 'BOL' 'BRA' 'BRB' 'BRN' 'BTN' 'BWA' 'CAF' 'CAN'\n",
      " 'CEB' 'CHE' 'CHI' 'CHL' 'CHN' 'CIV' 'CMR' 'COD' 'COG' 'COL' 'COM' 'CPV'\n",
      " 'CRI' 'CSS' 'CUB' 'CUW' 'CYM' 'CYP' 'CZE' 'DEU' 'DJI' 'DMA' 'DNK' 'DOM'\n",
      " 'DZA' 'EAP' 'EAR' 'EAS' 'ECA' 'ECS' 'ECU' 'EGY' 'EMU' 'ERI' 'ESP' 'EST'\n",
      " 'ETH' 'EUU' 'FCS' 'FIN' 'FJI' 'FRA' 'FRO' 'FSM' 'GAB' 'GBR' 'GEO' 'GHA'\n",
      " 'GIB' 'GIN' 'GMB' 'GNB' 'GNQ' 'GRC' 'GRD' 'GRL' 'GTM' 'GUM' 'GUY' 'HIC'\n",
      " 'HKG' 'HND' 'HPC' 'HRV' 'HTI' 'HUN' 'IBD' 'IBT' 'IDA' 'IDB' 'IDN' 'IDX'\n",
      " 'IMN' 'IND' 'IRL' 'IRN' 'IRQ' 'ISL' 'ISR' 'ITA' 'JAM' 'JOR' 'JPN' 'KAZ'\n",
      " 'KEN' 'KGZ' 'KHM' 'KIR' 'KNA' 'KOR' 'KWT' 'LAC' 'LAO' 'LBN' 'LBR' 'LBY'\n",
      " 'LCA' 'LCN' 'LDC' 'LIC' 'LIE' 'LKA' 'LMC' 'LMY' 'LSO' 'LTE' 'LTU' 'LUX'\n",
      " 'LVA' 'MAC' 'MAF' 'MAR' 'MCO' 'MDA' 'MDG' 'MDV' 'MEA' 'MEX' 'MHL' 'MIC'\n",
      " 'MKD' 'MLI' 'MLT' 'MMR' 'MNA' 'MNE' 'MNG' 'MNP' 'MOZ' 'MRT' 'MUS' 'MWI'\n",
      " 'MYS' 'NAC' 'NAM' 'NCL' 'NER' 'NGA' 'NIC' 'NLD' 'NOR' 'NPL' 'NRU' 'NZL'\n",
      " 'OED' 'OMN' 'OSS' 'PAK' 'PAN' 'PER' 'PHL' 'PLW' 'PNG' 'POL' 'PRE' 'PRI'\n",
      " 'PRK' 'PRT' 'PRY' 'PSE' 'PSS' 'PST' 'PYF' 'QAT' 'ROU' 'RUS' 'RWA' 'SAS'\n",
      " 'SAU' 'SDN' 'SEN' 'SGP' 'SLB' 'SLE' 'SLV' 'SMR' 'SOM' 'SRB' 'SSA' 'SSD'\n",
      " 'SSF' 'SST' 'STP' 'SUR' 'SVK' 'SVN' 'SWE' 'SWZ' 'SXM' 'SYC' 'SYR' 'TCA'\n",
      " 'TCD' 'TEA' 'TEC' 'TGO' 'THA' 'TJK' 'TKM' 'TLA' 'TLS' 'TMN' 'TON' 'TSA'\n",
      " 'TSS' 'TTO' 'TUN' 'TUR' 'TUV' 'TZA' 'UGA' 'UKR' 'UMC' 'URY' 'USA' 'UZB'\n",
      " 'VCT' 'VEN' 'VGB' 'VIR' 'VNM' 'VUT' 'WLD' 'WSM' 'XKX' 'YEM' 'ZAF' 'ZMB'\n",
      " 'ZWE']\n",
      "\n",
      " Total no of unique country code: 265\n"
     ]
    }
   ],
   "source": [
    "print(df['Country Code'].unique())\n",
    "print(\"\\n Total no of unique country code:\",df['Country Code'].nunique())"
   ]
  },
  {
   "cell_type": "markdown",
   "id": "b72f6e49-d0b2-4484-898c-f2d9af2560e6",
   "metadata": {},
   "source": [
    "# Dropping unnecessary columns"
   ]
  },
  {
   "cell_type": "code",
   "execution_count": 22,
   "id": "84a68a82-f093-4f82-b85f-14515d4444d0",
   "metadata": {},
   "outputs": [],
   "source": [
    "df.drop(['Country Name'],axis=1,inplace=True)"
   ]
  },
  {
   "cell_type": "markdown",
   "id": "e146300b-92e3-4721-a053-45de8fe12e76",
   "metadata": {},
   "source": [
    "# Extarction of top 10 countries with respect to total population"
   ]
  },
  {
   "cell_type": "code",
   "execution_count": 24,
   "id": "a1101eed-679c-4e7a-b541-3e933710bf34",
   "metadata": {},
   "outputs": [
    {
     "name": "stdout",
     "output_type": "stream",
     "text": [
      "Top ten countries of total population\n",
      "\n",
      "    Country Code\n",
      "258          WLD\n",
      "103          IBT\n",
      "139          LMY\n",
      "155          MIC\n",
      "102          IBD\n",
      "62           EAR\n",
      "138          LMC\n",
      "248          UMC\n",
      "63           EAS\n",
      "141          LTE\n"
     ]
    }
   ],
   "source": [
    "# Filter data for total population\n",
    "total_population_data = df[df['Indicator Code'] == 'SP.POP.TOTL']\n",
    "\n",
    "# Sort data based on the total population for 2024\n",
    "total_population_sorted = total_population_data.sort_values(by=\"2024\", ascending=False)\n",
    "\n",
    "# Get the top ten countries with the highest total population for 2024\n",
    "total_top_ten_countries = total_population_sorted.head(10)\n",
    "print(\"Top ten countries of total population\\n\")\n",
    "print(total_top_ten_countries[['Country Code']])"
   ]
  },
  {
   "cell_type": "markdown",
   "id": "5e1d9376-376b-45ee-97d4-e239118e4054",
   "metadata": {},
   "source": [
    "# Bar Plot"
   ]
  },
  {
   "cell_type": "markdown",
   "id": "1f2f3f1a-058e-4da0-b628-ba0ed924e2da",
   "metadata": {},
   "source": [
    "# Top ten countries of total population in year 2024 and 2023"
   ]
  },
  {
   "cell_type": "code",
   "execution_count": 35,
   "id": "f10fa5f4-69d3-4f5b-bcda-9d773864374f",
   "metadata": {},
   "outputs": [
    {
     "name": "stderr",
     "output_type": "stream",
     "text": [
      "C:\\Users\\arpan\\AppData\\Local\\Temp\\ipykernel_14688\\1373328662.py:3: FutureWarning: \n",
      "\n",
      "Passing `palette` without assigning `hue` is deprecated and will be removed in v0.14.0. Assign the `y` variable to `hue` and set `legend=False` for the same effect.\n",
      "\n",
      "  sns.barplot(x=\"2024\", y=\"Country Code\", data=total_top_ten_countries, palette=\"coolwarm\")\n"
     ]
    },
    {
     "data": {
      "image/png": "[encoded data removed]",
      "text/plain": [
       "<Figure size 1500x600 with 1 Axes>"
      ]
     },
     "metadata": {},
     "output_type": "display_data"
    },
    {
     "name": "stderr",
     "output_type": "stream",
     "text": [
      "C:\\Users\\arpan\\AppData\\Local\\Temp\\ipykernel_14688\\1373328662.py:12: FutureWarning: \n",
      "\n",
      "Passing `palette` without assigning `hue` is deprecated and will be removed in v0.14.0. Assign the `y` variable to `hue` and set `legend=False` for the same effect.\n",
      "\n",
      "  sns.barplot(x=\"2023\", y=\"Country Code\", data=total_top_ten_countries, palette=\"coolwarm\")\n"
     ]
    },
    {
     "data": {
      "image/png": "[encoded data removed]",
      "text/plain": [
       "<Figure size 1500x600 with 1 Axes>"
      ]
     },
     "metadata": {},
     "output_type": "display_data"
    }
   ],
   "source": [
    "plt.figure(figsize=(15, 6))\n",
    "plt.subplot(2,2,1)\n",
    "sns.barplot(x=\"2024\", y=\"Country Code\", data=total_top_ten_countries, palette=\"coolwarm\")\n",
    "plt.title(\"Top Ten Countries of Total Population (2024)\",fontsize=10)\n",
    "plt.xlabel(\"Total Population\",fontsize=10)\n",
    "plt.ylabel(\"Country\",fontsize=10)\n",
    "plt.show()\n",
    "\n",
    "# Create the bar plot\n",
    "plt.figure(figsize=(15, 6))\n",
    "plt.subplot(2,2,2)\n",
    "sns.barplot(x=\"2023\", y=\"Country Code\", data=total_top_ten_countries, palette=\"coolwarm\")\n",
    "plt.title(\"Top Ten Countries of Total Population (2023)\",fontsize=10)\n",
    "plt.xlabel(\"Total Population\",fontsize=10)\n",
    "plt.ylabel(\"Country\",fontsize=10)\n",
    "plt.show()"
   ]
  },
  {
   "cell_type": "markdown",
   "id": "0f51c2fb-1b75-4150-8133-a1dc74f07990",
   "metadata": {},
   "source": [
    "# Extraction of bottom 10 countries with respect to total popultaion"
   ]
  },
  {
   "cell_type": "code",
   "execution_count": 25,
   "id": "6d67da92-8dfa-4d65-8baf-a97b0a5be01a",
   "metadata": {},
   "outputs": [
    {
     "name": "stdout",
     "output_type": "stream",
     "text": [
      "Bottom ten countries of total population\n",
      "\n",
      "    Country Code\n",
      "244          TUV\n",
      "178          NRU\n",
      "187          PLW\n",
      "146          MAF\n",
      "211          SMR\n",
      "154          MHL\n",
      "148          MCO\n",
      "84           GIB\n",
      "254          VGB\n",
      "136          LIE\n"
     ]
    }
   ],
   "source": [
    "# Sort data based on the total population for 2024\n",
    "total_population_sorted1 = total_population_data.sort_values(by=\"2024\", ascending=True)\n",
    "\n",
    "# Get the top ten countries with the highest total population for 2024\n",
    "total_bottom_ten_countries = total_population_sorted1.head(10)\n",
    "print(\"Bottom ten countries of total population\\n\")\n",
    "print(total_bottom_ten_countries[['Country Code']])"
   ]
  },
  {
   "cell_type": "markdown",
   "id": "c8de7b7a-4fb1-43e8-ae2b-bab180a5af97",
   "metadata": {},
   "source": [
    "# Bar plot for the bottom 10 countries"
   ]
  },
  {
   "cell_type": "code",
   "execution_count": 27,
   "id": "5ded73c9-31d6-48f5-88f3-cb321a987e14",
   "metadata": {},
   "outputs": [
    {
     "name": "stderr",
     "output_type": "stream",
     "text": [
      "C:\\Users\\arpan\\AppData\\Local\\Temp\\ipykernel_18604\\2050875547.py:4: FutureWarning: \n",
      "\n",
      "Passing `palette` without assigning `hue` is deprecated and will be removed in v0.14.0. Assign the `y` variable to `hue` and set `legend=False` for the same effect.\n",
      "\n",
      "  sns.barplot(x=\"2024\", y=\"Country Code\", data=total_bottom_ten_countries, palette=\"coolwarm\")\n"
     ]
    },
    {
     "data": {
      "image/png": "[encoded data removed]",
      "text/plain": [
       "<Figure size 1500x600 with 1 Axes>"
      ]
     },
     "metadata": {},
     "output_type": "display_data"
    },
    {
     "name": "stderr",
     "output_type": "stream",
     "text": [
      "C:\\Users\\arpan\\AppData\\Local\\Temp\\ipykernel_18604\\2050875547.py:13: FutureWarning: \n",
      "\n",
      "Passing `palette` without assigning `hue` is deprecated and will be removed in v0.14.0. Assign the `y` variable to `hue` and set `legend=False` for the same effect.\n",
      "\n",
      "  sns.barplot(x=\"2023\", y=\"Country Code\", data=total_bottom_ten_countries, palette=\"coolwarm\")\n"
     ]
    },
    {
     "data": {
      "image/png": "[encoded data removed]",
      "text/plain": [
       "<Figure size 1500x600 with 1 Axes>"
      ]
     },
     "metadata": {},
     "output_type": "display_data"
    }
   ],
   "source": [
    "# Create the bar plot\n",
    "plt.figure(figsize=(15, 6))\n",
    "plt.subplot(2,2,1)\n",
    "sns.barplot(x=\"2024\", y=\"Country Code\", data=total_bottom_ten_countries, palette=\"coolwarm\")\n",
    "plt.title(\"Bottom Ten Countries of Total Population (2024)\",fontsize=10)\n",
    "plt.xlabel(\"Total Population\",fontsize=10)\n",
    "plt.ylabel(\"Country\",fontsize=10)\n",
    "plt.show()\n",
    "\n",
    "# Create the bar plot\n",
    "plt.figure(figsize=(15, 6))\n",
    "plt.subplot(2,2,2)\n",
    "sns.barplot(x=\"2023\", y=\"Country Code\", data=total_bottom_ten_countries, palette=\"coolwarm\")\n",
    "plt.title(\"Bottom Ten Countries of Total Population (2023)\",fontsize=10)\n",
    "plt.xlabel(\"Total Population\",fontsize=10)\n",
    "plt.ylabel(\"Country\",fontsize=10)\n",
    "plt.show()"
   ]
  },
  {
   "cell_type": "markdown",
   "id": "266b0db7-d8a7-4ca5-9c7e-302607e05a31",
   "metadata": {},
   "source": [
    "# Extarction of top 10 countries with highest male population"
   ]
  },
  {
   "cell_type": "code",
   "execution_count": 35,
   "id": "b1182b9e-26d5-4f14-bc99-e0a65594b440",
   "metadata": {},
   "outputs": [
    {
     "name": "stdout",
     "output_type": "stream",
     "text": [
      "Top ten countries of male population\n",
      "    Country Code\n",
      "258          WLD\n",
      "103          IBT\n",
      "139          LMY\n",
      "155          MIC\n",
      "102          IBD\n",
      "62           EAR\n",
      "138          LMC\n",
      "248          UMC\n",
      "63           EAS\n",
      "141          LTE\n"
     ]
    }
   ],
   "source": [
    "#filter data for male population\n",
    "male_population_data = df[df['Indicator Code']=='SP.POP.TOTL']\n",
    "\n",
    "#sort data based on the male population for 2024\n",
    "male_population_sorted =male_population_data.sort_values(by=\"2024\",ascending=False)\n",
    "\n",
    "#Get the top 10 countries with the highest male population for 2024\n",
    "male_top_ten_countries = male_population_sorted .head(10)\n",
    "print(\"Top ten countries of male population\")\n",
    "print(male_top_ten_countries[['Country Code']])"
   ]
  },
  {
   "cell_type": "markdown",
   "id": "d77d0671-7a08-468e-994a-1012d58498f0",
   "metadata": {},
   "source": [
    "# Extarction of top 10 countries with highest female population"
   ]
  },
  {
   "cell_type": "code",
   "execution_count": 33,
   "id": "375311ed-954b-4b94-840f-40860c6a11f1",
   "metadata": {},
   "outputs": [
    {
     "name": "stdout",
     "output_type": "stream",
     "text": [
      "Top ten countries of female population\n",
      "    Country Code\n",
      "258          WLD\n",
      "103          IBT\n",
      "139          LMY\n",
      "155          MIC\n",
      "102          IBD\n",
      "62           EAR\n",
      "138          LMC\n",
      "248          UMC\n",
      "63           EAS\n",
      "141          LTE\n"
     ]
    }
   ],
   "source": [
    "#filter data for female population\n",
    "female_population_data = df[df['Indicator Code']=='SP.POP.TOTL']\n",
    "\n",
    "#sort data based on the female population for 2024\n",
    "female_population_sorted =female_population_data.sort_values(by=\"2024\",ascending=False)\n",
    "\n",
    "#Get the top 10 countries with the highest female population for 2024\n",
    "female_top_ten_countries = female_population_sorted .head(10)\n",
    "print(\"Top ten countries of female population\")\n",
    "print(female_top_ten_countries[['Country Code']])"
   ]
  },
  {
   "cell_type": "markdown",
   "id": "726176eb-020a-4172-bce6-512dd8774108",
   "metadata": {},
   "source": [
    "# Bar plot for Top ten countries with highest male and female population "
   ]
  },
  {
   "cell_type": "code",
   "execution_count": 37,
   "id": "9d4ac38d-81c4-4c1d-8ecd-4e8b94c92ba6",
   "metadata": {},
   "outputs": [
    {
     "name": "stderr",
     "output_type": "stream",
     "text": [
      "C:\\Users\\arpan\\AppData\\Local\\Temp\\ipykernel_18604\\2246666457.py:4: FutureWarning: \n",
      "\n",
      "Passing `palette` without assigning `hue` is deprecated and will be removed in v0.14.0. Assign the `y` variable to `hue` and set `legend=False` for the same effect.\n",
      "\n",
      "  sns.barplot(x=\"2024\", y=\"Country Code\", data=male_top_ten_countries, palette=\"viridis\")\n"
     ]
    },
    {
     "data": {
      "image/png": "[encoded data removed]",
      "text/plain": [
       "<Figure size 1500x600 with 1 Axes>"
      ]
     },
     "metadata": {},
     "output_type": "display_data"
    },
    {
     "name": "stderr",
     "output_type": "stream",
     "text": [
      "C:\\Users\\arpan\\AppData\\Local\\Temp\\ipykernel_18604\\2246666457.py:13: FutureWarning: \n",
      "\n",
      "Passing `palette` without assigning `hue` is deprecated and will be removed in v0.14.0. Assign the `y` variable to `hue` and set `legend=False` for the same effect.\n",
      "\n",
      "  sns.barplot(x=\"2023\", y=\"Country Code\", data=female_top_ten_countries, palette=\"viridis\")\n"
     ]
    },
    {
     "data": {
      "image/png": "[encoded data removed]",
      "text/plain": [
       "<Figure size 1500x600 with 1 Axes>"
      ]
     },
     "metadata": {},
     "output_type": "display_data"
    }
   ],
   "source": [
    "# Create the bar plot\n",
    "plt.figure(figsize=(15, 6))\n",
    "plt.subplot(2,2,1)\n",
    "sns.barplot(x=\"2024\", y=\"Country Code\", data=male_top_ten_countries, palette=\"viridis\")\n",
    "plt.title(\"Top ten conuntries of male population(2024)\",fontsize=10)\n",
    "plt.xlabel(\"Male Population\",fontsize=10)\n",
    "plt.ylabel(\"Country\",fontsize=10)\n",
    "plt.show()\n",
    "\n",
    "# Create the bar plot\n",
    "plt.figure(figsize=(15, 6))\n",
    "plt.subplot(2,2,2)\n",
    "sns.barplot(x=\"2023\", y=\"Country Code\", data=female_top_ten_countries, palette=\"viridis\")\n",
    "plt.title(\"Top ten conuntries of female population(2023)\",fontsize=10)\n",
    "plt.xlabel(\"Female Population\",fontsize=10)\n",
    "plt.ylabel(\"Country\",fontsize=10)\n",
    "plt.show()"
   ]
  },
  {
   "cell_type": "markdown",
   "id": "0c699280-7251-4c66-bbdd-c0464c5781c0",
   "metadata": {},
   "source": [
    "# Stacked Bar Plot"
   ]
  },
  {
   "cell_type": "code",
   "execution_count": 38,
   "id": "a6363eb9-421e-4e5c-b5b9-738bcff318dd",
   "metadata": {},
   "outputs": [],
   "source": [
    "#merge male and female population data on 'Country Code'\n",
    "merge_data=pd.merge(male_population_data,female_population_data,on=\"Country Code\",suffixes=(\"_male\",\"_female\"))"
   ]
  },
  {
   "cell_type": "code",
   "execution_count": 39,
   "id": "c3852847-687f-4a97-b3df-fdff603c3df1",
   "metadata": {},
   "outputs": [],
   "source": [
    "#merged data\n",
    "#calculate the total population for each country (male + female)\n",
    "merge_data[\"Total population\"] = merge_data[\"2022_male\"] + merge_data [\"2022_female\"]"
   ]
  },
  {
   "cell_type": "code",
   "execution_count": 40,
   "id": "38e1593b-3eab-4eb0-ae9d-725a6e51360c",
   "metadata": {},
   "outputs": [
    {
     "data": {
      "text/html": [
       "<div>\n",
       "<style scoped>\n",
       "    .dataframe tbody tr th:only-of-type {\n",
       "        vertical-align: middle;\n",
       "    }\n",
       "\n",
       "    .dataframe tbody tr th {\n",
       "        vertical-align: top;\n",
       "    }\n",
       "\n",
       "    .dataframe thead th {\n",
       "        text-align: right;\n",
       "    }\n",
       "</style>\n",
       "<table border=\"1\" class=\"dataframe\">\n",
       "  <thead>\n",
       "    <tr style=\"text-align: right;\">\n",
       "      <th></th>\n",
       "      <th>Country Code</th>\n",
       "      <th>Indicator Name_male</th>\n",
       "      <th>Indicator Code_male</th>\n",
       "      <th>1960_male</th>\n",
       "      <th>1961_male</th>\n",
       "      <th>1962_male</th>\n",
       "      <th>1963_male</th>\n",
       "      <th>1964_male</th>\n",
       "      <th>1965_male</th>\n",
       "      <th>1966_male</th>\n",
       "      <th>...</th>\n",
       "      <th>2016_female</th>\n",
       "      <th>2017_female</th>\n",
       "      <th>2018_female</th>\n",
       "      <th>2019_female</th>\n",
       "      <th>2020_female</th>\n",
       "      <th>2021_female</th>\n",
       "      <th>2022_female</th>\n",
       "      <th>2023_female</th>\n",
       "      <th>2024_female</th>\n",
       "      <th>Total population</th>\n",
       "    </tr>\n",
       "  </thead>\n",
       "  <tbody>\n",
       "    <tr>\n",
       "      <th>0</th>\n",
       "      <td>ABW</td>\n",
       "      <td>Population, total</td>\n",
       "      <td>SP.POP.TOTL</td>\n",
       "      <td>54922.0</td>\n",
       "      <td>55578.0</td>\n",
       "      <td>56320.0</td>\n",
       "      <td>57002.0</td>\n",
       "      <td>57619.0</td>\n",
       "      <td>58190.0</td>\n",
       "      <td>58694.0</td>\n",
       "      <td>...</td>\n",
       "      <td>108727</td>\n",
       "      <td>108735</td>\n",
       "      <td>108908</td>\n",
       "      <td>109203</td>\n",
       "      <td>108587</td>\n",
       "      <td>107700</td>\n",
       "      <td>107310</td>\n",
       "      <td>107359</td>\n",
       "      <td>107624</td>\n",
       "      <td>214620</td>\n",
       "    </tr>\n",
       "    <tr>\n",
       "      <th>1</th>\n",
       "      <td>AFE</td>\n",
       "      <td>Population, total</td>\n",
       "      <td>SP.POP.TOTL</td>\n",
       "      <td>130075728.0</td>\n",
       "      <td>133534923.0</td>\n",
       "      <td>137171659.0</td>\n",
       "      <td>140945536.0</td>\n",
       "      <td>144904094.0</td>\n",
       "      <td>149033472.0</td>\n",
       "      <td>153281203.0</td>\n",
       "      <td>...</td>\n",
       "      <td>623369401</td>\n",
       "      <td>640058741</td>\n",
       "      <td>657801085</td>\n",
       "      <td>675950189</td>\n",
       "      <td>694446100</td>\n",
       "      <td>713090928</td>\n",
       "      <td>731821393</td>\n",
       "      <td>750503764</td>\n",
       "      <td>769294618</td>\n",
       "      <td>1463642786</td>\n",
       "    </tr>\n",
       "    <tr>\n",
       "      <th>2</th>\n",
       "      <td>AFG</td>\n",
       "      <td>Population, total</td>\n",
       "      <td>SP.POP.TOTL</td>\n",
       "      <td>9035043.0</td>\n",
       "      <td>9214083.0</td>\n",
       "      <td>9404406.0</td>\n",
       "      <td>9604487.0</td>\n",
       "      <td>9814318.0</td>\n",
       "      <td>10036008.0</td>\n",
       "      <td>10266395.0</td>\n",
       "      <td>...</td>\n",
       "      <td>34700612</td>\n",
       "      <td>35688935</td>\n",
       "      <td>36743039</td>\n",
       "      <td>37856121</td>\n",
       "      <td>39068979</td>\n",
       "      <td>40000412</td>\n",
       "      <td>40578842</td>\n",
       "      <td>41454761</td>\n",
       "      <td>42647492</td>\n",
       "      <td>81157684</td>\n",
       "    </tr>\n",
       "    <tr>\n",
       "      <th>3</th>\n",
       "      <td>AFW</td>\n",
       "      <td>Population, total</td>\n",
       "      <td>SP.POP.TOTL</td>\n",
       "      <td>97630925.0</td>\n",
       "      <td>99706674.0</td>\n",
       "      <td>101854756.0</td>\n",
       "      <td>104089175.0</td>\n",
       "      <td>106388440.0</td>\n",
       "      <td>108772632.0</td>\n",
       "      <td>111246953.0</td>\n",
       "      <td>...</td>\n",
       "      <td>429454743</td>\n",
       "      <td>440882906</td>\n",
       "      <td>452195915</td>\n",
       "      <td>463365429</td>\n",
       "      <td>474569351</td>\n",
       "      <td>485920997</td>\n",
       "      <td>497387180</td>\n",
       "      <td>509398589</td>\n",
       "      <td>521764076</td>\n",
       "      <td>994774360</td>\n",
       "    </tr>\n",
       "    <tr>\n",
       "      <th>4</th>\n",
       "      <td>AGO</td>\n",
       "      <td>Population, total</td>\n",
       "      <td>SP.POP.TOTL</td>\n",
       "      <td>5231654.0</td>\n",
       "      <td>5301583.0</td>\n",
       "      <td>5354310.0</td>\n",
       "      <td>5408320.0</td>\n",
       "      <td>5464187.0</td>\n",
       "      <td>5521981.0</td>\n",
       "      <td>5581386.0</td>\n",
       "      <td>...</td>\n",
       "      <td>29183070</td>\n",
       "      <td>30234839</td>\n",
       "      <td>31297155</td>\n",
       "      <td>32375632</td>\n",
       "      <td>33451132</td>\n",
       "      <td>34532429</td>\n",
       "      <td>35635029</td>\n",
       "      <td>36749906</td>\n",
       "      <td>37885849</td>\n",
       "      <td>71270058</td>\n",
       "    </tr>\n",
       "  </tbody>\n",
       "</table>\n",
       "<p>5 rows × 136 columns</p>\n",
       "</div>"
      ],
      "text/plain": [
       "  Country Code Indicator Name_male Indicator Code_male    1960_male  \\\n",
       "0          ABW   Population, total         SP.POP.TOTL      54922.0   \n",
       "1          AFE   Population, total         SP.POP.TOTL  130075728.0   \n",
       "2          AFG   Population, total         SP.POP.TOTL    9035043.0   \n",
       "3          AFW   Population, total         SP.POP.TOTL   97630925.0   \n",
       "4          AGO   Population, total         SP.POP.TOTL    5231654.0   \n",
       "\n",
       "     1961_male    1962_male    1963_male    1964_male    1965_male  \\\n",
       "0      55578.0      56320.0      57002.0      57619.0      58190.0   \n",
       "1  133534923.0  137171659.0  140945536.0  144904094.0  149033472.0   \n",
       "2    9214083.0    9404406.0    9604487.0    9814318.0   10036008.0   \n",
       "3   99706674.0  101854756.0  104089175.0  106388440.0  108772632.0   \n",
       "4    5301583.0    5354310.0    5408320.0    5464187.0    5521981.0   \n",
       "\n",
       "     1966_male  ...  2016_female  2017_female  2018_female  2019_female  \\\n",
       "0      58694.0  ...       108727       108735       108908       109203   \n",
       "1  153281203.0  ...    623369401    640058741    657801085    675950189   \n",
       "2   10266395.0  ...     34700612     35688935     36743039     37856121   \n",
       "3  111246953.0  ...    429454743    440882906    452195915    463365429   \n",
       "4    5581386.0  ...     29183070     30234839     31297155     32375632   \n",
       "\n",
       "   2020_female  2021_female  2022_female  2023_female  2024_female  \\\n",
       "0       108587       107700       107310       107359       107624   \n",
       "1    694446100    713090928    731821393    750503764    769294618   \n",
       "2     39068979     40000412     40578842     41454761     42647492   \n",
       "3    474569351    485920997    497387180    509398589    521764076   \n",
       "4     33451132     34532429     35635029     36749906     37885849   \n",
       "\n",
       "   Total population  \n",
       "0            214620  \n",
       "1        1463642786  \n",
       "2          81157684  \n",
       "3         994774360  \n",
       "4          71270058  \n",
       "\n",
       "[5 rows x 136 columns]"
      ]
     },
     "execution_count": 40,
     "metadata": {},
     "output_type": "execute_result"
    }
   ],
   "source": [
    "merge_data.head()"
   ]
  },
  {
   "cell_type": "code",
   "execution_count": 27,
   "id": "14294f2f-92ec-4e7e-a53f-4becb9070446",
   "metadata": {},
   "outputs": [],
   "source": [
    "#sort data based on total population in descending order\n",
    "sorted_data = merge_data.sort_values(by=\"Total population\", ascending=False)"
   ]
  },
  {
   "cell_type": "markdown",
   "id": "f96442a1-8378-4010-ae9a-ed8abc35640b",
   "metadata": {},
   "source": [
    "# Bar Plot for the top 10 countries with the highest total population"
   ]
  },
  {
   "cell_type": "code",
   "execution_count": 28,
   "id": "afd43c49-b288-4f0d-8cb8-24981947be86",
   "metadata": {},
   "outputs": [],
   "source": [
    "top_10_countries = sorted_data.head(10)"
   ]
  },
  {
   "cell_type": "code",
   "execution_count": 43,
   "id": "e316fabc-afa3-4a63-99ab-1ad422ef1d70",
   "metadata": {},
   "outputs": [
    {
     "data": {
      "image/png": "[encoded data removed]",
      "text/plain": [
       "<Figure size 1200x600 with 1 Axes>"
      ]
     },
     "metadata": {},
     "output_type": "display_data"
    }
   ],
   "source": [
    "#create the staked bar plot\n",
    "plt.figure(figsize=(12,6))\n",
    "sns.barplot(x=\"Country Code\",y=\"2024_female\",data=top_10_countries,color=\"red\",label=\"female Population\")\n",
    "sns.barplot(x=\"Country Code\",y=\"2024_male\",data=top_10_countries,bottom=top_10_countries[\"2024_female\"],color=\"green\",label=\"Male Population\")\n",
    "plt.xlabel(\"Country\")\n",
    "plt.ylabel(\"Population\")\n",
    "plt.legend()\n",
    "plt.xticks(rotation=45,ha=\"right\")\n",
    "plt.show()"
   ]
  },
  {
   "cell_type": "markdown",
   "id": "bb4d5149-5504-4df5-8e84-b0a0ef43ba84",
   "metadata": {},
   "source": [
    "# Bar plot for the bottom 10 countries"
   ]
  },
  {
   "cell_type": "code",
   "execution_count": 30,
   "id": "9a8b5615-f498-4700-b7a8-789478c4ab2d",
   "metadata": {},
   "outputs": [],
   "source": [
    "#select the top 10 countries with the highest total population\n",
    "bottom_10_countries = sorted_data.tail(10)"
   ]
  },
  {
   "cell_type": "code",
   "execution_count": 42,
   "id": "3b55c113-b70e-4480-840e-75a1fc209ec8",
   "metadata": {},
   "outputs": [
    {
     "data": {
      "image/png": "[encoded data removed]",
      "text/plain": [
       "<Figure size 1200x600 with 1 Axes>"
      ]
     },
     "metadata": {},
     "output_type": "display_data"
    }
   ],
   "source": [
    "# Create the stacked bar plot\n",
    "plt.figure(figsize=(12, 6))\n",
    "sns.barplot(x=\"Country Code\", y=\"2024_female\", data=bottom_10_countries, color=\"red\", label=\"Female Population\")\n",
    "sns.barplot(x=\"Country Code\", y=\"2024_male\", data=bottom_10_countries, bottom=bottom_10_countries[\"2024_female\"], color=\"green\", label=\"Male Population\")\n",
    "plt.xlabel(\"Country\")\n",
    "plt.ylabel(\"Population\")\n",
    "plt.legend()\n",
    "plt.xticks(rotation=45, ha=\"right\")\n",
    "plt.show()"
   ]
  },
  {
   "cell_type": "code",
   "execution_count": null,
   "id": "63ae1987-6d51-45a5-82fd-daa87cac57e5",
   "metadata": {},
   "outputs": [],
   "source": []
  }
 ],
 "metadata": {
  "kernelspec": {
   "display_name": "Python 3 (ipykernel)",
   "language": "python",
   "name": "python3"
  },
  "language_info": {
   "codemirror_mode": {
    "name": "ipython",
    "version": 3
   },
   "file_extension": ".py",
   "mimetype": "text/x-python",
   "name": "python",
   "nbconvert_exporter": "python",
   "pygments_lexer": "ipython3",
   "version": "3.13.5"
  }
 },
 "nbformat": 4,
 "nbformat_minor": 5
}
